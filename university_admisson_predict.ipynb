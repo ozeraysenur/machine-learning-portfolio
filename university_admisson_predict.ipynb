{
  "nbformat": 4,
  "nbformat_minor": 0,
  "metadata": {
    "colab": {
      "provenance": []
    },
    "kernelspec": {
      "name": "python3",
      "display_name": "Python 3"
    },
    "language_info": {
      "name": "python"
    }
  },
  "cells": [
    {
      "cell_type": "markdown",
      "source": [
        "##Veriyi Anlama ve Hazırlama"
      ],
      "metadata": {
        "id": "0OM96j33kkGP"
      }
    },
    {
      "cell_type": "code",
      "execution_count": null,
      "metadata": {
        "id": "NdTnX845ivsO"
      },
      "outputs": [],
      "source": [
        "#Gerekli kütüphane yüklemeleri\n",
        "import numpy as np\n",
        "import pandas as pd\n",
        "import seaborn as sns\n",
        "import matplotlib.pyplot as plt"
      ]
    },
    {
      "cell_type": "code",
      "source": [
        "admission_path = \"/content/drive/MyDrive/ml/4_hafta/datasets/Admission_Predict.csv\"\n",
        "df = pd.read_csv(admission_path)"
      ],
      "metadata": {
        "id": "Ww9WxIdujrxJ"
      },
      "execution_count": null,
      "outputs": []
    },
    {
      "cell_type": "markdown",
      "source": [
        "Veri setimizin yüklemesi tamamlandıktan sonra içeriği hakkında bir fikir edinmek için birkaç satırını görüntüleyelim\n"
      ],
      "metadata": {
        "id": "clFvAD6mkjGS"
      }
    },
    {
      "cell_type": "code",
      "source": [
        "df.head(10)"
      ],
      "metadata": {
        "colab": {
          "base_uri": "https://localhost:8080/",
          "height": 363
        },
        "id": "DPiffnetkyUB",
        "outputId": "f6c09986-58e9-42a9-fadb-9856856aaf99"
      },
      "execution_count": null,
      "outputs": [
        {
          "output_type": "execute_result",
          "data": {
            "text/plain": [
              "   Serial No.  GRE Score  TOEFL Score  University Rating  SOP  LOR   CGPA  \\\n",
              "0           1        337          118                  4  4.5   4.5  9.65   \n",
              "1           2        324          107                  4  4.0   4.5  8.87   \n",
              "2           3        316          104                  3  3.0   3.5  8.00   \n",
              "3           4        322          110                  3  3.5   2.5  8.67   \n",
              "4           5        314          103                  2  2.0   3.0  8.21   \n",
              "5           6        330          115                  5  4.5   3.0  9.34   \n",
              "6           7        321          109                  3  3.0   4.0  8.20   \n",
              "7           8        308          101                  2  3.0   4.0  7.90   \n",
              "8           9        302          102                  1  2.0   1.5  8.00   \n",
              "9          10        323          108                  3  3.5   3.0  8.60   \n",
              "\n",
              "   Research  Chance of Admit   \n",
              "0         1              0.92  \n",
              "1         1              0.76  \n",
              "2         1              0.72  \n",
              "3         1              0.80  \n",
              "4         0              0.65  \n",
              "5         1              0.90  \n",
              "6         1              0.75  \n",
              "7         0              0.68  \n",
              "8         0              0.50  \n",
              "9         0              0.45  "
            ],
            "text/html": [
              "\n",
              "  <div id=\"df-8212e274-905e-472b-ba58-5c67457ebbc7\" class=\"colab-df-container\">\n",
              "    <div>\n",
              "<style scoped>\n",
              "    .dataframe tbody tr th:only-of-type {\n",
              "        vertical-align: middle;\n",
              "    }\n",
              "\n",
              "    .dataframe tbody tr th {\n",
              "        vertical-align: top;\n",
              "    }\n",
              "\n",
              "    .dataframe thead th {\n",
              "        text-align: right;\n",
              "    }\n",
              "</style>\n",
              "<table border=\"1\" class=\"dataframe\">\n",
              "  <thead>\n",
              "    <tr style=\"text-align: right;\">\n",
              "      <th></th>\n",
              "      <th>Serial No.</th>\n",
              "      <th>GRE Score</th>\n",
              "      <th>TOEFL Score</th>\n",
              "      <th>University Rating</th>\n",
              "      <th>SOP</th>\n",
              "      <th>LOR</th>\n",
              "      <th>CGPA</th>\n",
              "      <th>Research</th>\n",
              "      <th>Chance of Admit</th>\n",
              "    </tr>\n",
              "  </thead>\n",
              "  <tbody>\n",
              "    <tr>\n",
              "      <th>0</th>\n",
              "      <td>1</td>\n",
              "      <td>337</td>\n",
              "      <td>118</td>\n",
              "      <td>4</td>\n",
              "      <td>4.5</td>\n",
              "      <td>4.5</td>\n",
              "      <td>9.65</td>\n",
              "      <td>1</td>\n",
              "      <td>0.92</td>\n",
              "    </tr>\n",
              "    <tr>\n",
              "      <th>1</th>\n",
              "      <td>2</td>\n",
              "      <td>324</td>\n",
              "      <td>107</td>\n",
              "      <td>4</td>\n",
              "      <td>4.0</td>\n",
              "      <td>4.5</td>\n",
              "      <td>8.87</td>\n",
              "      <td>1</td>\n",
              "      <td>0.76</td>\n",
              "    </tr>\n",
              "    <tr>\n",
              "      <th>2</th>\n",
              "      <td>3</td>\n",
              "      <td>316</td>\n",
              "      <td>104</td>\n",
              "      <td>3</td>\n",
              "      <td>3.0</td>\n",
              "      <td>3.5</td>\n",
              "      <td>8.00</td>\n",
              "      <td>1</td>\n",
              "      <td>0.72</td>\n",
              "    </tr>\n",
              "    <tr>\n",
              "      <th>3</th>\n",
              "      <td>4</td>\n",
              "      <td>322</td>\n",
              "      <td>110</td>\n",
              "      <td>3</td>\n",
              "      <td>3.5</td>\n",
              "      <td>2.5</td>\n",
              "      <td>8.67</td>\n",
              "      <td>1</td>\n",
              "      <td>0.80</td>\n",
              "    </tr>\n",
              "    <tr>\n",
              "      <th>4</th>\n",
              "      <td>5</td>\n",
              "      <td>314</td>\n",
              "      <td>103</td>\n",
              "      <td>2</td>\n",
              "      <td>2.0</td>\n",
              "      <td>3.0</td>\n",
              "      <td>8.21</td>\n",
              "      <td>0</td>\n",
              "      <td>0.65</td>\n",
              "    </tr>\n",
              "    <tr>\n",
              "      <th>5</th>\n",
              "      <td>6</td>\n",
              "      <td>330</td>\n",
              "      <td>115</td>\n",
              "      <td>5</td>\n",
              "      <td>4.5</td>\n",
              "      <td>3.0</td>\n",
              "      <td>9.34</td>\n",
              "      <td>1</td>\n",
              "      <td>0.90</td>\n",
              "    </tr>\n",
              "    <tr>\n",
              "      <th>6</th>\n",
              "      <td>7</td>\n",
              "      <td>321</td>\n",
              "      <td>109</td>\n",
              "      <td>3</td>\n",
              "      <td>3.0</td>\n",
              "      <td>4.0</td>\n",
              "      <td>8.20</td>\n",
              "      <td>1</td>\n",
              "      <td>0.75</td>\n",
              "    </tr>\n",
              "    <tr>\n",
              "      <th>7</th>\n",
              "      <td>8</td>\n",
              "      <td>308</td>\n",
              "      <td>101</td>\n",
              "      <td>2</td>\n",
              "      <td>3.0</td>\n",
              "      <td>4.0</td>\n",
              "      <td>7.90</td>\n",
              "      <td>0</td>\n",
              "      <td>0.68</td>\n",
              "    </tr>\n",
              "    <tr>\n",
              "      <th>8</th>\n",
              "      <td>9</td>\n",
              "      <td>302</td>\n",
              "      <td>102</td>\n",
              "      <td>1</td>\n",
              "      <td>2.0</td>\n",
              "      <td>1.5</td>\n",
              "      <td>8.00</td>\n",
              "      <td>0</td>\n",
              "      <td>0.50</td>\n",
              "    </tr>\n",
              "    <tr>\n",
              "      <th>9</th>\n",
              "      <td>10</td>\n",
              "      <td>323</td>\n",
              "      <td>108</td>\n",
              "      <td>3</td>\n",
              "      <td>3.5</td>\n",
              "      <td>3.0</td>\n",
              "      <td>8.60</td>\n",
              "      <td>0</td>\n",
              "      <td>0.45</td>\n",
              "    </tr>\n",
              "  </tbody>\n",
              "</table>\n",
              "</div>\n",
              "    <div class=\"colab-df-buttons\">\n",
              "\n",
              "  <div class=\"colab-df-container\">\n",
              "    <button class=\"colab-df-convert\" onclick=\"convertToInteractive('df-8212e274-905e-472b-ba58-5c67457ebbc7')\"\n",
              "            title=\"Convert this dataframe to an interactive table.\"\n",
              "            style=\"display:none;\">\n",
              "\n",
              "  <svg xmlns=\"http://www.w3.org/2000/svg\" height=\"24px\" viewBox=\"0 -960 960 960\">\n",
              "    <path d=\"M120-120v-720h720v720H120Zm60-500h600v-160H180v160Zm220 220h160v-160H400v160Zm0 220h160v-160H400v160ZM180-400h160v-160H180v160Zm440 0h160v-160H620v160ZM180-180h160v-160H180v160Zm440 0h160v-160H620v160Z\"/>\n",
              "  </svg>\n",
              "    </button>\n",
              "\n",
              "  <style>\n",
              "    .colab-df-container {\n",
              "      display:flex;\n",
              "      gap: 12px;\n",
              "    }\n",
              "\n",
              "    .colab-df-convert {\n",
              "      background-color: #E8F0FE;\n",
              "      border: none;\n",
              "      border-radius: 50%;\n",
              "      cursor: pointer;\n",
              "      display: none;\n",
              "      fill: #1967D2;\n",
              "      height: 32px;\n",
              "      padding: 0 0 0 0;\n",
              "      width: 32px;\n",
              "    }\n",
              "\n",
              "    .colab-df-convert:hover {\n",
              "      background-color: #E2EBFA;\n",
              "      box-shadow: 0px 1px 2px rgba(60, 64, 67, 0.3), 0px 1px 3px 1px rgba(60, 64, 67, 0.15);\n",
              "      fill: #174EA6;\n",
              "    }\n",
              "\n",
              "    .colab-df-buttons div {\n",
              "      margin-bottom: 4px;\n",
              "    }\n",
              "\n",
              "    [theme=dark] .colab-df-convert {\n",
              "      background-color: #3B4455;\n",
              "      fill: #D2E3FC;\n",
              "    }\n",
              "\n",
              "    [theme=dark] .colab-df-convert:hover {\n",
              "      background-color: #434B5C;\n",
              "      box-shadow: 0px 1px 3px 1px rgba(0, 0, 0, 0.15);\n",
              "      filter: drop-shadow(0px 1px 2px rgba(0, 0, 0, 0.3));\n",
              "      fill: #FFFFFF;\n",
              "    }\n",
              "  </style>\n",
              "\n",
              "    <script>\n",
              "      const buttonEl =\n",
              "        document.querySelector('#df-8212e274-905e-472b-ba58-5c67457ebbc7 button.colab-df-convert');\n",
              "      buttonEl.style.display =\n",
              "        google.colab.kernel.accessAllowed ? 'block' : 'none';\n",
              "\n",
              "      async function convertToInteractive(key) {\n",
              "        const element = document.querySelector('#df-8212e274-905e-472b-ba58-5c67457ebbc7');\n",
              "        const dataTable =\n",
              "          await google.colab.kernel.invokeFunction('convertToInteractive',\n",
              "                                                    [key], {});\n",
              "        if (!dataTable) return;\n",
              "\n",
              "        const docLinkHtml = 'Like what you see? Visit the ' +\n",
              "          '<a target=\"_blank\" href=https://colab.research.google.com/notebooks/data_table.ipynb>data table notebook</a>'\n",
              "          + ' to learn more about interactive tables.';\n",
              "        element.innerHTML = '';\n",
              "        dataTable['output_type'] = 'display_data';\n",
              "        await google.colab.output.renderOutput(dataTable, element);\n",
              "        const docLink = document.createElement('div');\n",
              "        docLink.innerHTML = docLinkHtml;\n",
              "        element.appendChild(docLink);\n",
              "      }\n",
              "    </script>\n",
              "  </div>\n",
              "\n",
              "\n",
              "<div id=\"df-7a7c7bd5-7486-4d02-9467-d177b2e84c6f\">\n",
              "  <button class=\"colab-df-quickchart\" onclick=\"quickchart('df-7a7c7bd5-7486-4d02-9467-d177b2e84c6f')\"\n",
              "            title=\"Suggest charts\"\n",
              "            style=\"display:none;\">\n",
              "\n",
              "<svg xmlns=\"http://www.w3.org/2000/svg\" height=\"24px\"viewBox=\"0 0 24 24\"\n",
              "     width=\"24px\">\n",
              "    <g>\n",
              "        <path d=\"M19 3H5c-1.1 0-2 .9-2 2v14c0 1.1.9 2 2 2h14c1.1 0 2-.9 2-2V5c0-1.1-.9-2-2-2zM9 17H7v-7h2v7zm4 0h-2V7h2v10zm4 0h-2v-4h2v4z\"/>\n",
              "    </g>\n",
              "</svg>\n",
              "  </button>\n",
              "\n",
              "<style>\n",
              "  .colab-df-quickchart {\n",
              "      --bg-color: #E8F0FE;\n",
              "      --fill-color: #1967D2;\n",
              "      --hover-bg-color: #E2EBFA;\n",
              "      --hover-fill-color: #174EA6;\n",
              "      --disabled-fill-color: #AAA;\n",
              "      --disabled-bg-color: #DDD;\n",
              "  }\n",
              "\n",
              "  [theme=dark] .colab-df-quickchart {\n",
              "      --bg-color: #3B4455;\n",
              "      --fill-color: #D2E3FC;\n",
              "      --hover-bg-color: #434B5C;\n",
              "      --hover-fill-color: #FFFFFF;\n",
              "      --disabled-bg-color: #3B4455;\n",
              "      --disabled-fill-color: #666;\n",
              "  }\n",
              "\n",
              "  .colab-df-quickchart {\n",
              "    background-color: var(--bg-color);\n",
              "    border: none;\n",
              "    border-radius: 50%;\n",
              "    cursor: pointer;\n",
              "    display: none;\n",
              "    fill: var(--fill-color);\n",
              "    height: 32px;\n",
              "    padding: 0;\n",
              "    width: 32px;\n",
              "  }\n",
              "\n",
              "  .colab-df-quickchart:hover {\n",
              "    background-color: var(--hover-bg-color);\n",
              "    box-shadow: 0 1px 2px rgba(60, 64, 67, 0.3), 0 1px 3px 1px rgba(60, 64, 67, 0.15);\n",
              "    fill: var(--button-hover-fill-color);\n",
              "  }\n",
              "\n",
              "  .colab-df-quickchart-complete:disabled,\n",
              "  .colab-df-quickchart-complete:disabled:hover {\n",
              "    background-color: var(--disabled-bg-color);\n",
              "    fill: var(--disabled-fill-color);\n",
              "    box-shadow: none;\n",
              "  }\n",
              "\n",
              "  .colab-df-spinner {\n",
              "    border: 2px solid var(--fill-color);\n",
              "    border-color: transparent;\n",
              "    border-bottom-color: var(--fill-color);\n",
              "    animation:\n",
              "      spin 1s steps(1) infinite;\n",
              "  }\n",
              "\n",
              "  @keyframes spin {\n",
              "    0% {\n",
              "      border-color: transparent;\n",
              "      border-bottom-color: var(--fill-color);\n",
              "      border-left-color: var(--fill-color);\n",
              "    }\n",
              "    20% {\n",
              "      border-color: transparent;\n",
              "      border-left-color: var(--fill-color);\n",
              "      border-top-color: var(--fill-color);\n",
              "    }\n",
              "    30% {\n",
              "      border-color: transparent;\n",
              "      border-left-color: var(--fill-color);\n",
              "      border-top-color: var(--fill-color);\n",
              "      border-right-color: var(--fill-color);\n",
              "    }\n",
              "    40% {\n",
              "      border-color: transparent;\n",
              "      border-right-color: var(--fill-color);\n",
              "      border-top-color: var(--fill-color);\n",
              "    }\n",
              "    60% {\n",
              "      border-color: transparent;\n",
              "      border-right-color: var(--fill-color);\n",
              "    }\n",
              "    80% {\n",
              "      border-color: transparent;\n",
              "      border-right-color: var(--fill-color);\n",
              "      border-bottom-color: var(--fill-color);\n",
              "    }\n",
              "    90% {\n",
              "      border-color: transparent;\n",
              "      border-bottom-color: var(--fill-color);\n",
              "    }\n",
              "  }\n",
              "</style>\n",
              "\n",
              "  <script>\n",
              "    async function quickchart(key) {\n",
              "      const quickchartButtonEl =\n",
              "        document.querySelector('#' + key + ' button');\n",
              "      quickchartButtonEl.disabled = true;  // To prevent multiple clicks.\n",
              "      quickchartButtonEl.classList.add('colab-df-spinner');\n",
              "      try {\n",
              "        const charts = await google.colab.kernel.invokeFunction(\n",
              "            'suggestCharts', [key], {});\n",
              "      } catch (error) {\n",
              "        console.error('Error during call to suggestCharts:', error);\n",
              "      }\n",
              "      quickchartButtonEl.classList.remove('colab-df-spinner');\n",
              "      quickchartButtonEl.classList.add('colab-df-quickchart-complete');\n",
              "    }\n",
              "    (() => {\n",
              "      let quickchartButtonEl =\n",
              "        document.querySelector('#df-7a7c7bd5-7486-4d02-9467-d177b2e84c6f button');\n",
              "      quickchartButtonEl.style.display =\n",
              "        google.colab.kernel.accessAllowed ? 'block' : 'none';\n",
              "    })();\n",
              "  </script>\n",
              "</div>\n",
              "\n",
              "    </div>\n",
              "  </div>\n"
            ],
            "application/vnd.google.colaboratory.intrinsic+json": {
              "type": "dataframe",
              "variable_name": "df",
              "summary": "{\n  \"name\": \"df\",\n  \"rows\": 400,\n  \"fields\": [\n    {\n      \"column\": \"Serial No.\",\n      \"properties\": {\n        \"dtype\": \"number\",\n        \"std\": 115,\n        \"min\": 1,\n        \"max\": 400,\n        \"num_unique_values\": 400,\n        \"samples\": [\n          210,\n          281,\n          34\n        ],\n        \"semantic_type\": \"\",\n        \"description\": \"\"\n      }\n    },\n    {\n      \"column\": \"GRE Score\",\n      \"properties\": {\n        \"dtype\": \"number\",\n        \"std\": 11,\n        \"min\": 290,\n        \"max\": 340,\n        \"num_unique_values\": 49,\n        \"samples\": [\n          307,\n          335,\n          297\n        ],\n        \"semantic_type\": \"\",\n        \"description\": \"\"\n      }\n    },\n    {\n      \"column\": \"TOEFL Score\",\n      \"properties\": {\n        \"dtype\": \"number\",\n        \"std\": 6,\n        \"min\": 92,\n        \"max\": 120,\n        \"num_unique_values\": 29,\n        \"samples\": [\n          94,\n          119,\n          112\n        ],\n        \"semantic_type\": \"\",\n        \"description\": \"\"\n      }\n    },\n    {\n      \"column\": \"University Rating\",\n      \"properties\": {\n        \"dtype\": \"number\",\n        \"std\": 1,\n        \"min\": 1,\n        \"max\": 5,\n        \"num_unique_values\": 5,\n        \"samples\": [\n          3,\n          1,\n          2\n        ],\n        \"semantic_type\": \"\",\n        \"description\": \"\"\n      }\n    },\n    {\n      \"column\": \"SOP\",\n      \"properties\": {\n        \"dtype\": \"number\",\n        \"std\": 1.0068686414586976,\n        \"min\": 1.0,\n        \"max\": 5.0,\n        \"num_unique_values\": 9,\n        \"samples\": [\n          1.0,\n          4.0,\n          5.0\n        ],\n        \"semantic_type\": \"\",\n        \"description\": \"\"\n      }\n    },\n    {\n      \"column\": \"LOR \",\n      \"properties\": {\n        \"dtype\": \"number\",\n        \"std\": 0.898477548279256,\n        \"min\": 1.0,\n        \"max\": 5.0,\n        \"num_unique_values\": 9,\n        \"samples\": [\n          5.0,\n          3.5,\n          1.5\n        ],\n        \"semantic_type\": \"\",\n        \"description\": \"\"\n      }\n    },\n    {\n      \"column\": \"CGPA\",\n      \"properties\": {\n        \"dtype\": \"number\",\n        \"std\": 0.5963170964964317,\n        \"min\": 6.8,\n        \"max\": 9.92,\n        \"num_unique_values\": 168,\n        \"samples\": [\n          8.15,\n          7.4,\n          9.91\n        ],\n        \"semantic_type\": \"\",\n        \"description\": \"\"\n      }\n    },\n    {\n      \"column\": \"Research\",\n      \"properties\": {\n        \"dtype\": \"number\",\n        \"std\": 0,\n        \"min\": 0,\n        \"max\": 1,\n        \"num_unique_values\": 2,\n        \"samples\": [\n          0,\n          1\n        ],\n        \"semantic_type\": \"\",\n        \"description\": \"\"\n      }\n    },\n    {\n      \"column\": \"Chance of Admit \",\n      \"properties\": {\n        \"dtype\": \"number\",\n        \"std\": 0.14260933017384092,\n        \"min\": 0.34,\n        \"max\": 0.97,\n        \"num_unique_values\": 60,\n        \"samples\": [\n          0.92,\n          0.9\n        ],\n        \"semantic_type\": \"\",\n        \"description\": \"\"\n      }\n    }\n  ]\n}"
            }
          },
          "metadata": {},
          "execution_count": 3
        }
      ]
    },
    {
      "cell_type": "markdown",
      "source": [
        "Ben genellikle deafult olan 5 satırı değil de 10 satırı görüntülemeyi tercih ediyorum.\n"
      ],
      "metadata": {
        "id": "pOiLxg94k29I"
      }
    },
    {
      "cell_type": "code",
      "source": [
        "df.shape"
      ],
      "metadata": {
        "colab": {
          "base_uri": "https://localhost:8080/"
        },
        "id": "YwgnzbWkzknA",
        "outputId": "5a405db3-9eaa-49b3-f061-43d9415012eb"
      },
      "execution_count": null,
      "outputs": [
        {
          "output_type": "execute_result",
          "data": {
            "text/plain": [
              "(400, 9)"
            ]
          },
          "metadata": {},
          "execution_count": 4
        }
      ]
    },
    {
      "cell_type": "markdown",
      "source": [
        "İlk bakışta gözüme çarpan şeyler hakkında şöyle yorum yapabilirim\n",
        "\n",
        " -Serial no featureu çıkarılabilir. Makine öğrenmesi modelimizin kullanacağı hiçbir şeyi barındırmıyor.\n",
        "\n",
        "-Bazı score değerleri var ve bunların chance of admit değişkenine etkileri oldukça fazla diye düşünüyorum.\n",
        "\n",
        "-Rating kolonunun sayılandırması hakkında as üst ilişkisi olduğunu düşünüyorum ve bu benim için iyi çünkü kategorik olarak değil sayısal olarak ifade edilmiş."
      ],
      "metadata": {
        "id": "K2O8j2J8tdep"
      }
    },
    {
      "cell_type": "markdown",
      "source": [
        "Şimdi eksik değerlerimiz var mı diye bakalım ve varsa onları temizleyelim(eğer yüzdesi çok yüksekse) veya dolduralım."
      ],
      "metadata": {
        "id": "aCm5N9IKuXXX"
      }
    },
    {
      "cell_type": "code",
      "source": [
        "df.isnull().sum()"
      ],
      "metadata": {
        "colab": {
          "base_uri": "https://localhost:8080/",
          "height": 366
        },
        "id": "DO6u49gQuV6I",
        "outputId": "86834ef5-f61e-4b19-d0ff-9aab56bd7e9b"
      },
      "execution_count": null,
      "outputs": [
        {
          "output_type": "execute_result",
          "data": {
            "text/plain": [
              "Serial No.           0\n",
              "GRE Score            0\n",
              "TOEFL Score          0\n",
              "University Rating    0\n",
              "SOP                  0\n",
              "LOR                  0\n",
              "CGPA                 0\n",
              "Research             0\n",
              "Chance of Admit      0\n",
              "dtype: int64"
            ],
            "text/html": [
              "<div>\n",
              "<style scoped>\n",
              "    .dataframe tbody tr th:only-of-type {\n",
              "        vertical-align: middle;\n",
              "    }\n",
              "\n",
              "    .dataframe tbody tr th {\n",
              "        vertical-align: top;\n",
              "    }\n",
              "\n",
              "    .dataframe thead th {\n",
              "        text-align: right;\n",
              "    }\n",
              "</style>\n",
              "<table border=\"1\" class=\"dataframe\">\n",
              "  <thead>\n",
              "    <tr style=\"text-align: right;\">\n",
              "      <th></th>\n",
              "      <th>0</th>\n",
              "    </tr>\n",
              "  </thead>\n",
              "  <tbody>\n",
              "    <tr>\n",
              "      <th>Serial No.</th>\n",
              "      <td>0</td>\n",
              "    </tr>\n",
              "    <tr>\n",
              "      <th>GRE Score</th>\n",
              "      <td>0</td>\n",
              "    </tr>\n",
              "    <tr>\n",
              "      <th>TOEFL Score</th>\n",
              "      <td>0</td>\n",
              "    </tr>\n",
              "    <tr>\n",
              "      <th>University Rating</th>\n",
              "      <td>0</td>\n",
              "    </tr>\n",
              "    <tr>\n",
              "      <th>SOP</th>\n",
              "      <td>0</td>\n",
              "    </tr>\n",
              "    <tr>\n",
              "      <th>LOR</th>\n",
              "      <td>0</td>\n",
              "    </tr>\n",
              "    <tr>\n",
              "      <th>CGPA</th>\n",
              "      <td>0</td>\n",
              "    </tr>\n",
              "    <tr>\n",
              "      <th>Research</th>\n",
              "      <td>0</td>\n",
              "    </tr>\n",
              "    <tr>\n",
              "      <th>Chance of Admit</th>\n",
              "      <td>0</td>\n",
              "    </tr>\n",
              "  </tbody>\n",
              "</table>\n",
              "</div><br><label><b>dtype:</b> int64</label>"
            ]
          },
          "metadata": {},
          "execution_count": 5
        }
      ]
    },
    {
      "cell_type": "markdown",
      "source": [
        "Eksik değerimiz hiç yok şanslıyız ki bu temiz bir veri setiymiş o yüzden eksik değerleri doldurmamız gerek yok."
      ],
      "metadata": {
        "id": "teIOQSXix8dJ"
      }
    },
    {
      "cell_type": "code",
      "source": [
        "df.drop(columns=[\"Serial No.\"], inplace=True)"
      ],
      "metadata": {
        "id": "rjYeiPIK6tJw"
      },
      "execution_count": null,
      "outputs": []
    },
    {
      "cell_type": "markdown",
      "source": [
        "Serial No değişkenini silmeye karar verdim çünkü bu değişken sadece veri setindeki her gözlemi numaralandıran bir sütun olduğu için herhangi bir analizde anlamlı bir katkı sağlamayacaktır."
      ],
      "metadata": {
        "id": "PeakeuBzHWbw"
      }
    },
    {
      "cell_type": "markdown",
      "source": [
        "## Aykırı Değer Kontrolü\n",
        "Aykırı değerlerimiz var mı, varsa ne kadar yer kaplıyorlar onları inceleyeceğim."
      ],
      "metadata": {
        "id": "XYarTgihHzqX"
      }
    },
    {
      "cell_type": "code",
      "source": [
        "Q1 = df.quantile(0.25)\n",
        "Q3 = df.quantile(0.75)\n",
        "IQR = Q3 - Q1\n",
        "\n",
        "# Aykırı değerleri belirleme\n",
        "outliers = ((df < (Q1 - 1.5 * IQR)) | (df > (Q3 + 1.5 * IQR)))\n",
        "print(outliers.sum())  # Her değişkende kaç aykırı değer var\n"
      ],
      "metadata": {
        "colab": {
          "base_uri": "https://localhost:8080/"
        },
        "id": "i2weK98P6T7C",
        "outputId": "f87e2fda-d659-4dd3-c8bf-f63ae0cd18be"
      },
      "execution_count": null,
      "outputs": [
        {
          "output_type": "stream",
          "name": "stdout",
          "text": [
            "GRE Score            0\n",
            "TOEFL Score          0\n",
            "University Rating    0\n",
            "SOP                  0\n",
            "LOR                  1\n",
            "CGPA                 1\n",
            "Research             0\n",
            "Chance of Admit      2\n",
            "dtype: int64\n"
          ]
        }
      ]
    },
    {
      "cell_type": "markdown",
      "source": [
        "IQR yöntemini kullanarak aykırı değerleri belirledim ve oldukça az olduklarını gözlemledim. Bu sebeple silmek yerine onları alt üst sınır değerlerine çekeceğim. Bir de grafik üzerinden gözlemleyelim bu değerleri."
      ],
      "metadata": {
        "id": "t03UYuZ9IGkE"
      }
    },
    {
      "cell_type": "code",
      "source": [
        "plt.figure(figsize=(12, 5))\n",
        "sns.boxplot(data=df[['LOR ', 'CGPA', 'Chance of Admit ']])\n",
        "plt.show()"
      ],
      "metadata": {
        "colab": {
          "base_uri": "https://localhost:8080/",
          "height": 412
        },
        "id": "5wUUlCIZIkR2",
        "outputId": "32ff3fb9-50f0-4c1b-c5fb-2d672c8116d2"
      },
      "execution_count": null,
      "outputs": [
        {
          "output_type": "display_data",
          "data": {
            "text/plain": [
              "<Figure size 1200x500 with 1 Axes>"
            ],
            "image/png": "[encoded data removed]"
          },
          "metadata": {}
        }
      ]
    },
    {
      "cell_type": "markdown",
      "source": [
        "Aslında bu aykırı değerlerin inanılmaz uçlarda olduğu bir grafik elde etmedik fakat ben yine de daha düzenli olması açısından ve hiçbir şeyi gözden kaçırmamak amacıyla bu değerleri sınıra çekme işlemi uygulayacağım"
      ],
      "metadata": {
        "id": "z2KxSuSmJRiN"
      }
    },
    {
      "cell_type": "code",
      "source": [
        "def cap_outliers(df, columns):\n",
        "    for col in columns:\n",
        "        Q1 = df[col].quantile(0.25)\n",
        "        Q3 = df[col].quantile(0.75)\n",
        "        IQR = Q3 - Q1\n",
        "        lower_bound = Q1 - 1.5 * IQR\n",
        "        upper_bound = Q3 + 1.5 * IQR\n",
        "\n",
        "\n",
        "        df[col] = np.where(df[col] < lower_bound, lower_bound, df[col])\n",
        "        df[col] = np.where(df[col] > upper_bound, upper_bound, df[col])\n",
        "\n",
        "    return df\n",
        "\n",
        "\n",
        "outlier_columns = ['LOR ', 'CGPA', 'Chance of Admit ']\n",
        "df = cap_outliers(df, outlier_columns)"
      ],
      "metadata": {
        "id": "wqpp85ZhJg-r"
      },
      "execution_count": null,
      "outputs": []
    },
    {
      "cell_type": "code",
      "source": [
        "plt.figure(figsize=(12, 5))\n",
        "sns.boxplot(data=df[['LOR ', 'CGPA', 'Chance of Admit ']])\n",
        "plt.show()"
      ],
      "metadata": {
        "colab": {
          "base_uri": "https://localhost:8080/",
          "height": 445
        },
        "id": "qoz17rnuJ4Ty",
        "outputId": "9a2700a0-e96b-489c-883b-9dc01d5e16c8"
      },
      "execution_count": null,
      "outputs": [
        {
          "output_type": "display_data",
          "data": {
            "text/plain": [
              "<Figure size 1200x500 with 1 Axes>"
            ],
            "image/png": "[encoded data removed]"
          },
          "metadata": {}
        }
      ]
    },
    {
      "cell_type": "markdown",
      "source": [
        "Tekrardan grafiğimizi oluşturup gözlemledikten sonra oldukça temiz ve beklenen şekilde olan bir boxplotla karşılaşıyoruz."
      ],
      "metadata": {
        "id": "YalwJenoJ9RI"
      }
    },
    {
      "cell_type": "markdown",
      "source": [
        "Hedef değişkenimizi 0-1 aralığına sığdıralım"
      ],
      "metadata": {
        "id": "Hi0a7sDRKaQZ"
      }
    },
    {
      "cell_type": "code",
      "source": [
        "df[\"Chance of Admit Binary\"] = (df[\"Chance of Admit \"] >= 0.75).astype(int)"
      ],
      "metadata": {
        "id": "70GPcfK8Kf5S"
      },
      "execution_count": null,
      "outputs": []
    },
    {
      "cell_type": "code",
      "source": [
        "df.head()"
      ],
      "metadata": {
        "colab": {
          "base_uri": "https://localhost:8080/",
          "height": 206
        },
        "id": "D_kOHAOrKhHe",
        "outputId": "502b1d96-94b6-4ab7-cb1c-429b297cfee1"
      },
      "execution_count": null,
      "outputs": [
        {
          "output_type": "execute_result",
          "data": {
            "text/plain": [
              "   GRE Score  TOEFL Score  University Rating  SOP  LOR   CGPA  Research  \\\n",
              "0        337          118                  4  4.5   4.5  9.65         1   \n",
              "1        324          107                  4  4.0   4.5  8.87         1   \n",
              "2        316          104                  3  3.0   3.5  8.00         1   \n",
              "3        322          110                  3  3.5   2.5  8.67         1   \n",
              "4        314          103                  2  2.0   3.0  8.21         0   \n",
              "\n",
              "   Chance of Admit   Chance of Admit Binary  \n",
              "0              0.92                       1  \n",
              "1              0.76                       1  \n",
              "2              0.72                       0  \n",
              "3              0.80                       1  \n",
              "4              0.65                       0  "
            ],
            "text/html": [
              "\n",
              "  <div id=\"df-db277c70-4d08-4e0f-8e16-c40d210764d4\" class=\"colab-df-container\">\n",
              "    <div>\n",
              "<style scoped>\n",
              "    .dataframe tbody tr th:only-of-type {\n",
              "        vertical-align: middle;\n",
              "    }\n",
              "\n",
              "    .dataframe tbody tr th {\n",
              "        vertical-align: top;\n",
              "    }\n",
              "\n",
              "    .dataframe thead th {\n",
              "        text-align: right;\n",
              "    }\n",
              "</style>\n",
              "<table border=\"1\" class=\"dataframe\">\n",
              "  <thead>\n",
              "    <tr style=\"text-align: right;\">\n",
              "      <th></th>\n",
              "      <th>GRE Score</th>\n",
              "      <th>TOEFL Score</th>\n",
              "      <th>University Rating</th>\n",
              "      <th>SOP</th>\n",
              "      <th>LOR</th>\n",
              "      <th>CGPA</th>\n",
              "      <th>Research</th>\n",
              "      <th>Chance of Admit</th>\n",
              "      <th>Chance of Admit Binary</th>\n",
              "    </tr>\n",
              "  </thead>\n",
              "  <tbody>\n",
              "    <tr>\n",
              "      <th>0</th>\n",
              "      <td>337</td>\n",
              "      <td>118</td>\n",
              "      <td>4</td>\n",
              "      <td>4.5</td>\n",
              "      <td>4.5</td>\n",
              "      <td>9.65</td>\n",
              "      <td>1</td>\n",
              "      <td>0.92</td>\n",
              "      <td>1</td>\n",
              "    </tr>\n",
              "    <tr>\n",
              "      <th>1</th>\n",
              "      <td>324</td>\n",
              "      <td>107</td>\n",
              "      <td>4</td>\n",
              "      <td>4.0</td>\n",
              "      <td>4.5</td>\n",
              "      <td>8.87</td>\n",
              "      <td>1</td>\n",
              "      <td>0.76</td>\n",
              "      <td>1</td>\n",
              "    </tr>\n",
              "    <tr>\n",
              "      <th>2</th>\n",
              "      <td>316</td>\n",
              "      <td>104</td>\n",
              "      <td>3</td>\n",
              "      <td>3.0</td>\n",
              "      <td>3.5</td>\n",
              "      <td>8.00</td>\n",
              "      <td>1</td>\n",
              "      <td>0.72</td>\n",
              "      <td>0</td>\n",
              "    </tr>\n",
              "    <tr>\n",
              "      <th>3</th>\n",
              "      <td>322</td>\n",
              "      <td>110</td>\n",
              "      <td>3</td>\n",
              "      <td>3.5</td>\n",
              "      <td>2.5</td>\n",
              "      <td>8.67</td>\n",
              "      <td>1</td>\n",
              "      <td>0.80</td>\n",
              "      <td>1</td>\n",
              "    </tr>\n",
              "    <tr>\n",
              "      <th>4</th>\n",
              "      <td>314</td>\n",
              "      <td>103</td>\n",
              "      <td>2</td>\n",
              "      <td>2.0</td>\n",
              "      <td>3.0</td>\n",
              "      <td>8.21</td>\n",
              "      <td>0</td>\n",
              "      <td>0.65</td>\n",
              "      <td>0</td>\n",
              "    </tr>\n",
              "  </tbody>\n",
              "</table>\n",
              "</div>\n",
              "    <div class=\"colab-df-buttons\">\n",
              "\n",
              "  <div class=\"colab-df-container\">\n",
              "    <button class=\"colab-df-convert\" onclick=\"convertToInteractive('df-db277c70-4d08-4e0f-8e16-c40d210764d4')\"\n",
              "            title=\"Convert this dataframe to an interactive table.\"\n",
              "            style=\"display:none;\">\n",
              "\n",
              "  <svg xmlns=\"http://www.w3.org/2000/svg\" height=\"24px\" viewBox=\"0 -960 960 960\">\n",
              "    <path d=\"M120-120v-720h720v720H120Zm60-500h600v-160H180v160Zm220 220h160v-160H400v160Zm0 220h160v-160H400v160ZM180-400h160v-160H180v160Zm440 0h160v-160H620v160ZM180-180h160v-160H180v160Zm440 0h160v-160H620v160Z\"/>\n",
              "  </svg>\n",
              "    </button>\n",
              "\n",
              "  <style>\n",
              "    .colab-df-container {\n",
              "      display:flex;\n",
              "      gap: 12px;\n",
              "    }\n",
              "\n",
              "    .colab-df-convert {\n",
              "      background-color: #E8F0FE;\n",
              "      border: none;\n",
              "      border-radius: 50%;\n",
              "      cursor: pointer;\n",
              "      display: none;\n",
              "      fill: #1967D2;\n",
              "      height: 32px;\n",
              "      padding: 0 0 0 0;\n",
              "      width: 32px;\n",
              "    }\n",
              "\n",
              "    .colab-df-convert:hover {\n",
              "      background-color: #E2EBFA;\n",
              "      box-shadow: 0px 1px 2px rgba(60, 64, 67, 0.3), 0px 1px 3px 1px rgba(60, 64, 67, 0.15);\n",
              "      fill: #174EA6;\n",
              "    }\n",
              "\n",
              "    .colab-df-buttons div {\n",
              "      margin-bottom: 4px;\n",
              "    }\n",
              "\n",
              "    [theme=dark] .colab-df-convert {\n",
              "      background-color: #3B4455;\n",
              "      fill: #D2E3FC;\n",
              "    }\n",
              "\n",
              "    [theme=dark] .colab-df-convert:hover {\n",
              "      background-color: #434B5C;\n",
              "      box-shadow: 0px 1px 3px 1px rgba(0, 0, 0, 0.15);\n",
              "      filter: drop-shadow(0px 1px 2px rgba(0, 0, 0, 0.3));\n",
              "      fill: #FFFFFF;\n",
              "    }\n",
              "  </style>\n",
              "\n",
              "    <script>\n",
              "      const buttonEl =\n",
              "        document.querySelector('#df-db277c70-4d08-4e0f-8e16-c40d210764d4 button.colab-df-convert');\n",
              "      buttonEl.style.display =\n",
              "        google.colab.kernel.accessAllowed ? 'block' : 'none';\n",
              "\n",
              "      async function convertToInteractive(key) {\n",
              "        const element = document.querySelector('#df-db277c70-4d08-4e0f-8e16-c40d210764d4');\n",
              "        const dataTable =\n",
              "          await google.colab.kernel.invokeFunction('convertToInteractive',\n",
              "                                                    [key], {});\n",
              "        if (!dataTable) return;\n",
              "\n",
              "        const docLinkHtml = 'Like what you see? Visit the ' +\n",
              "          '<a target=\"_blank\" href=https://colab.research.google.com/notebooks/data_table.ipynb>data table notebook</a>'\n",
              "          + ' to learn more about interactive tables.';\n",
              "        element.innerHTML = '';\n",
              "        dataTable['output_type'] = 'display_data';\n",
              "        await google.colab.output.renderOutput(dataTable, element);\n",
              "        const docLink = document.createElement('div');\n",
              "        docLink.innerHTML = docLinkHtml;\n",
              "        element.appendChild(docLink);\n",
              "      }\n",
              "    </script>\n",
              "  </div>\n",
              "\n",
              "\n",
              "<div id=\"df-c26ae040-da9b-48a4-8e70-7422faaa4a0b\">\n",
              "  <button class=\"colab-df-quickchart\" onclick=\"quickchart('df-c26ae040-da9b-48a4-8e70-7422faaa4a0b')\"\n",
              "            title=\"Suggest charts\"\n",
              "            style=\"display:none;\">\n",
              "\n",
              "<svg xmlns=\"http://www.w3.org/2000/svg\" height=\"24px\"viewBox=\"0 0 24 24\"\n",
              "     width=\"24px\">\n",
              "    <g>\n",
              "        <path d=\"M19 3H5c-1.1 0-2 .9-2 2v14c0 1.1.9 2 2 2h14c1.1 0 2-.9 2-2V5c0-1.1-.9-2-2-2zM9 17H7v-7h2v7zm4 0h-2V7h2v10zm4 0h-2v-4h2v4z\"/>\n",
              "    </g>\n",
              "</svg>\n",
              "  </button>\n",
              "\n",
              "<style>\n",
              "  .colab-df-quickchart {\n",
              "      --bg-color: #E8F0FE;\n",
              "      --fill-color: #1967D2;\n",
              "      --hover-bg-color: #E2EBFA;\n",
              "      --hover-fill-color: #174EA6;\n",
              "      --disabled-fill-color: #AAA;\n",
              "      --disabled-bg-color: #DDD;\n",
              "  }\n",
              "\n",
              "  [theme=dark] .colab-df-quickchart {\n",
              "      --bg-color: #3B4455;\n",
              "      --fill-color: #D2E3FC;\n",
              "      --hover-bg-color: #434B5C;\n",
              "      --hover-fill-color: #FFFFFF;\n",
              "      --disabled-bg-color: #3B4455;\n",
              "      --disabled-fill-color: #666;\n",
              "  }\n",
              "\n",
              "  .colab-df-quickchart {\n",
              "    background-color: var(--bg-color);\n",
              "    border: none;\n",
              "    border-radius: 50%;\n",
              "    cursor: pointer;\n",
              "    display: none;\n",
              "    fill: var(--fill-color);\n",
              "    height: 32px;\n",
              "    padding: 0;\n",
              "    width: 32px;\n",
              "  }\n",
              "\n",
              "  .colab-df-quickchart:hover {\n",
              "    background-color: var(--hover-bg-color);\n",
              "    box-shadow: 0 1px 2px rgba(60, 64, 67, 0.3), 0 1px 3px 1px rgba(60, 64, 67, 0.15);\n",
              "    fill: var(--button-hover-fill-color);\n",
              "  }\n",
              "\n",
              "  .colab-df-quickchart-complete:disabled,\n",
              "  .colab-df-quickchart-complete:disabled:hover {\n",
              "    background-color: var(--disabled-bg-color);\n",
              "    fill: var(--disabled-fill-color);\n",
              "    box-shadow: none;\n",
              "  }\n",
              "\n",
              "  .colab-df-spinner {\n",
              "    border: 2px solid var(--fill-color);\n",
              "    border-color: transparent;\n",
              "    border-bottom-color: var(--fill-color);\n",
              "    animation:\n",
              "      spin 1s steps(1) infinite;\n",
              "  }\n",
              "\n",
              "  @keyframes spin {\n",
              "    0% {\n",
              "      border-color: transparent;\n",
              "      border-bottom-color: var(--fill-color);\n",
              "      border-left-color: var(--fill-color);\n",
              "    }\n",
              "    20% {\n",
              "      border-color: transparent;\n",
              "      border-left-color: var(--fill-color);\n",
              "      border-top-color: var(--fill-color);\n",
              "    }\n",
              "    30% {\n",
              "      border-color: transparent;\n",
              "      border-left-color: var(--fill-color);\n",
              "      border-top-color: var(--fill-color);\n",
              "      border-right-color: var(--fill-color);\n",
              "    }\n",
              "    40% {\n",
              "      border-color: transparent;\n",
              "      border-right-color: var(--fill-color);\n",
              "      border-top-color: var(--fill-color);\n",
              "    }\n",
              "    60% {\n",
              "      border-color: transparent;\n",
              "      border-right-color: var(--fill-color);\n",
              "    }\n",
              "    80% {\n",
              "      border-color: transparent;\n",
              "      border-right-color: var(--fill-color);\n",
              "      border-bottom-color: var(--fill-color);\n",
              "    }\n",
              "    90% {\n",
              "      border-color: transparent;\n",
              "      border-bottom-color: var(--fill-color);\n",
              "    }\n",
              "  }\n",
              "</style>\n",
              "\n",
              "  <script>\n",
              "    async function quickchart(key) {\n",
              "      const quickchartButtonEl =\n",
              "        document.querySelector('#' + key + ' button');\n",
              "      quickchartButtonEl.disabled = true;  // To prevent multiple clicks.\n",
              "      quickchartButtonEl.classList.add('colab-df-spinner');\n",
              "      try {\n",
              "        const charts = await google.colab.kernel.invokeFunction(\n",
              "            'suggestCharts', [key], {});\n",
              "      } catch (error) {\n",
              "        console.error('Error during call to suggestCharts:', error);\n",
              "      }\n",
              "      quickchartButtonEl.classList.remove('colab-df-spinner');\n",
              "      quickchartButtonEl.classList.add('colab-df-quickchart-complete');\n",
              "    }\n",
              "    (() => {\n",
              "      let quickchartButtonEl =\n",
              "        document.querySelector('#df-c26ae040-da9b-48a4-8e70-7422faaa4a0b button');\n",
              "      quickchartButtonEl.style.display =\n",
              "        google.colab.kernel.accessAllowed ? 'block' : 'none';\n",
              "    })();\n",
              "  </script>\n",
              "</div>\n",
              "\n",
              "    </div>\n",
              "  </div>\n"
            ],
            "application/vnd.google.colaboratory.intrinsic+json": {
              "type": "dataframe",
              "variable_name": "df",
              "summary": "{\n  \"name\": \"df\",\n  \"rows\": 400,\n  \"fields\": [\n    {\n      \"column\": \"GRE Score\",\n      \"properties\": {\n        \"dtype\": \"number\",\n        \"std\": 11,\n        \"min\": 290,\n        \"max\": 340,\n        \"num_unique_values\": 49,\n        \"samples\": [\n          307,\n          335,\n          297\n        ],\n        \"semantic_type\": \"\",\n        \"description\": \"\"\n      }\n    },\n    {\n      \"column\": \"TOEFL Score\",\n      \"properties\": {\n        \"dtype\": \"number\",\n        \"std\": 6,\n        \"min\": 92,\n        \"max\": 120,\n        \"num_unique_values\": 29,\n        \"samples\": [\n          94,\n          119,\n          112\n        ],\n        \"semantic_type\": \"\",\n        \"description\": \"\"\n      }\n    },\n    {\n      \"column\": \"University Rating\",\n      \"properties\": {\n        \"dtype\": \"number\",\n        \"std\": 1,\n        \"min\": 1,\n        \"max\": 5,\n        \"num_unique_values\": 5,\n        \"samples\": [\n          3,\n          1,\n          2\n        ],\n        \"semantic_type\": \"\",\n        \"description\": \"\"\n      }\n    },\n    {\n      \"column\": \"SOP\",\n      \"properties\": {\n        \"dtype\": \"number\",\n        \"std\": 1.0068686414586976,\n        \"min\": 1.0,\n        \"max\": 5.0,\n        \"num_unique_values\": 9,\n        \"samples\": [\n          1.0,\n          4.0,\n          5.0\n        ],\n        \"semantic_type\": \"\",\n        \"description\": \"\"\n      }\n    },\n    {\n      \"column\": \"LOR \",\n      \"properties\": {\n        \"dtype\": \"number\",\n        \"std\": 0.895399513189812,\n        \"min\": 1.5,\n        \"max\": 5.0,\n        \"num_unique_values\": 8,\n        \"samples\": [\n          3.5,\n          1.5,\n          4.5\n        ],\n        \"semantic_type\": \"\",\n        \"description\": \"\"\n      }\n    },\n    {\n      \"column\": \"CGPA\",\n      \"properties\": {\n        \"dtype\": \"number\",\n        \"std\": 0.5960828251868117,\n        \"min\": 6.83125,\n        \"max\": 9.92,\n        \"num_unique_values\": 168,\n        \"samples\": [\n          8.15,\n          7.4,\n          9.91\n        ],\n        \"semantic_type\": \"\",\n        \"description\": \"\"\n      }\n    },\n    {\n      \"column\": \"Research\",\n      \"properties\": {\n        \"dtype\": \"number\",\n        \"std\": 0,\n        \"min\": 0,\n        \"max\": 1,\n        \"num_unique_values\": 2,\n        \"samples\": [\n          0,\n          1\n        ],\n        \"semantic_type\": \"\",\n        \"description\": \"\"\n      }\n    },\n    {\n      \"column\": \"Chance of Admit \",\n      \"properties\": {\n        \"dtype\": \"number\",\n        \"std\": 0.14241048500936113,\n        \"min\": 0.3550000000000001,\n        \"max\": 0.97,\n        \"num_unique_values\": 60,\n        \"samples\": [\n          0.92,\n          0.9\n        ],\n        \"semantic_type\": \"\",\n        \"description\": \"\"\n      }\n    },\n    {\n      \"column\": \"Chance of Admit Binary\",\n      \"properties\": {\n        \"dtype\": \"number\",\n        \"std\": 0,\n        \"min\": 0,\n        \"max\": 1,\n        \"num_unique_values\": 2,\n        \"samples\": [\n          0,\n          1\n        ],\n        \"semantic_type\": \"\",\n        \"description\": \"\"\n      }\n    }\n  ]\n}"
            }
          },
          "metadata": {},
          "execution_count": 11
        }
      ]
    },
    {
      "cell_type": "markdown",
      "source": [
        "Artık bağımlı ve bağımsız değişkenlerimizi ayırabilir ve arından verimizi tarin ve test olarak bölmeye başlayabiliriz."
      ],
      "metadata": {
        "id": "oCqCJahXKvQt"
      }
    },
    {
      "cell_type": "code",
      "source": [
        "X = df[['GRE Score', 'TOEFL Score', 'University Rating', 'SOP', 'LOR ', 'CGPA', 'Research']]\n",
        "y = (df['Chance of Admit Binary'] )"
      ],
      "metadata": {
        "id": "aHWDu1DQK11R"
      },
      "execution_count": null,
      "outputs": []
    },
    {
      "cell_type": "markdown",
      "source": [
        "X bizim kullanılacak bağımsız değişkenlerimiz öğrencinin aldığı uanlar üniversitedki sıralaması gibi değişkenler y yani hedef değişkenimizi tahmin ederken kullanacağımız değişkenler"
      ],
      "metadata": {
        "id": "OP-PEkI0LBsu"
      }
    },
    {
      "cell_type": "markdown",
      "source": [
        "##Veriyi Eğitim ve Test Setlerine Bölme\n",
        "Veriyi bölerken genel bir yaklaşım olan 80e 20 yaklaşımını kullanacağım. Verinin %80ini train için kullanıp %20sini de trainin ardından test için kullanacağım.\n",
        "Standartlaştırm işlemini de veriyi böldükten sonra gerçekleştireceğim çünkü veri sızıntısı olması riskini istemiyorum."
      ],
      "metadata": {
        "id": "-dW5g3ekLRnh"
      }
    },
    {
      "cell_type": "code",
      "source": [
        "from sklearn.model_selection import train_test_split, GridSearchCV\n",
        "X_train, X_test, y_train, y_test = train_test_split(X, y, test_size=0.2, random_state=42)"
      ],
      "metadata": {
        "id": "xId2P1IULjqW"
      },
      "execution_count": null,
      "outputs": []
    },
    {
      "cell_type": "code",
      "source": [
        "from sklearn.preprocessing import StandardScaler\n",
        "\n",
        "# StandardScaler'ı oluştur\n",
        "scaler = StandardScaler()\n",
        "\n",
        "# Eğitim setine fit et ve dönüştür\n",
        "X_train_scaled = scaler.fit_transform(X_train)\n",
        "\n",
        "# Test setini sadece dönüştür (fit etmiyoruz!)\n",
        "X_test_scaled = scaler.transform(X_test)\n",
        "\n",
        "# Ölçeklendirilmiş verinin boyutlarını kontrol edelim\n",
        "print(f\"Scaled Train set: {X_train_scaled.shape}, Scaled Test set: {X_test_scaled.shape}\")"
      ],
      "metadata": {
        "colab": {
          "base_uri": "https://localhost:8080/"
        },
        "id": "S5D2YKQDOpeD",
        "outputId": "06a67d5d-4228-44bd-8eda-18e2361894a4"
      },
      "execution_count": null,
      "outputs": [
        {
          "output_type": "stream",
          "name": "stdout",
          "text": [
            "Scaled Train set: (320, 7), Scaled Test set: (80, 7)\n"
          ]
        }
      ]
    },
    {
      "cell_type": "markdown",
      "source": [
        "Verimizi test ve train olarak ayırdıktan sonra StandarScaler kullanarak veride standartlaştırma gerçekleştirdik. Artık verimiz lojistik regresyon modeliyle eğitilmeye hazır hale geldi."
      ],
      "metadata": {
        "id": "a63CEPREqHbQ"
      }
    },
    {
      "cell_type": "markdown",
      "source": [
        "##Modeli Eğitme\n"
      ],
      "metadata": {
        "id": "NiAS-FTFzh2z"
      }
    },
    {
      "cell_type": "code",
      "source": [
        "from sklearn.linear_model import LogisticRegression\n",
        "from sklearn.metrics import accuracy_score, classification_report\n",
        "\n",
        "# Modeli oluştur\n",
        "model = LogisticRegression()\n",
        "\n",
        "# Modeli eğitim verisi üzerinde eğit\n",
        "model.fit(X_train_scaled, y_train)\n",
        "\n",
        "# Test verisi üzerinde tahmin yap\n",
        "y_pred = model.predict(X_test_scaled)\n",
        "\n",
        "# Sonuçları değerlendirme\n",
        "accuracy = accuracy_score(y_test, y_pred)\n",
        "print(f\"Model Doğruluk Oranı: {accuracy:.4f}\")\n",
        "print(\"\\nSınıflandırma Raporu:\\n\", classification_report(y_test, y_pred))"
      ],
      "metadata": {
        "colab": {
          "base_uri": "https://localhost:8080/"
        },
        "id": "_O69KvBfO6ig",
        "outputId": "7e80bd31-1121-4094-b96a-36559c4c9cad"
      },
      "execution_count": null,
      "outputs": [
        {
          "output_type": "stream",
          "name": "stdout",
          "text": [
            "Model Doğruluk Oranı: 0.9125\n",
            "\n",
            "Sınıflandırma Raporu:\n",
            "               precision    recall  f1-score   support\n",
            "\n",
            "           0       0.95      0.89      0.92        47\n",
            "           1       0.86      0.94      0.90        33\n",
            "\n",
            "    accuracy                           0.91        80\n",
            "   macro avg       0.91      0.92      0.91        80\n",
            "weighted avg       0.92      0.91      0.91        80\n",
            "\n"
          ]
        }
      ]
    },
    {
      "cell_type": "markdown",
      "source": [
        "Elde ettiğimiz sonuçlar neticesinde şu yorumlar yapılabilir:\n",
        "\n",
        "Modelin doğruluk oranı (accuracy) %91.25 yani model test verilerinin %91.25'ini doğru tahmin etmişve bu oldukça iyi bir performans sergilediğini göstermekte.\n",
        "\n",
        "Precisionu incelediğimizde 0 ları tahmin etmekte oldukça başarılı olduğunu(%95) fakat 1 leri tahmin ederken bazılarnı yanlış tahmin ettiğini gözlemliyoruz.\n",
        "\n",
        "Eğer 1 sınıfının yani kabul edilme şansısnın yanlış tahmin edilmesi kritikse precision’ı artırmak için daha fazla örnek farklı özellikler veya algoritmalar denenebilir"
      ],
      "metadata": {
        "id": "MMvL1YSrz2pf"
      }
    },
    {
      "cell_type": "code",
      "source": [
        "from sklearn.metrics import confusion_matrix\n",
        "import seaborn as sns\n",
        "import matplotlib.pyplot as plt\n",
        "\n",
        "\n",
        "cm = confusion_matrix(y_test, y_pred)\n",
        "\n",
        "\n",
        "plt.figure(figsize=(5,4))\n",
        "sns.heatmap(cm, annot=True, fmt=\"d\", cmap=\"Blues\", xticklabels=[\"Red\", \"Kabul\"], yticklabels=[\"Red\", \"Kabul\"])\n",
        "plt.xlabel(\"Tahmin Edilen\")\n",
        "plt.ylabel(\"Gerçek\")\n",
        "plt.title(\"Confusion Matrix\")\n",
        "plt.show()"
      ],
      "metadata": {
        "colab": {
          "base_uri": "https://localhost:8080/",
          "height": 410
        },
        "id": "GjAA1TygPXE4",
        "outputId": "c4db58ae-61a3-4f77-fcf7-555165ac68a7"
      },
      "execution_count": null,
      "outputs": [
        {
          "output_type": "display_data",
          "data": {
            "text/plain": [
              "<Figure size 500x400 with 2 Axes>"
            ],
            "image/png": "[encoded data removed]"
          },
          "metadata": {}
        }
      ]
    },
    {
      "cell_type": "markdown",
      "source": [
        "Bu confusion matrix modelin sınıflandırma performansını gösteriyor. Matris şu şekilde yorumlanabilir:\n",
        "\n",
        "Gerçek \"Red\" Tahmin \"Red\" (True Negative - TN): 42\n",
        "→ Model 42 örnekte \"Red\" olarak doğru tahminde bulunmuş.\n",
        "\n",
        "Gerçek \"Red\" Tahmin \"Kabul\" (False Positive - FP): 5\n",
        "→ Model 5 örnekte \"Red\" olması gereken veriyi yanlışlıkla \"Kabul\" olarak tahmin etmiş.\n",
        "\n",
        "Gerçek \"Kabul\" Tahmin \"Red\" (False Negative - FN): 2\n",
        "→ Model 2 örnekte \"Kabul\" olması gereken veriyi yanlışlıkla \"Red\" olarak tahmin etmiş.\n",
        "\n",
        "Gerçek \"Kabul\" Tahmin \"Kabul\" (True Positive - TP): 31\n",
        "→ Model 31 örnekte \"Kabul\" olarak doğru tahminde bulunmuş.\n",
        "\n",
        "\n",
        "Model oldukça başarılı (%91.25 doğruluk).\n",
        "\n",
        "Kabul sınıfı için duyarlılık (recall) yüksek (%93.9), yani \"Kabul\" olan örnekleri yakalamada iyi\n",
        "\n",
        "Ancak precision (%86.1) biraz daha düşük yani yanlış pozitif tahminler var\n",
        "\n",
        "Dengeyi iyileştirmek için eşik değeri değiştirilebilir veya daha fazla özellik eklenerek model geliştirilebilir"
      ],
      "metadata": {
        "id": "VrZ-jFCj0rbY"
      }
    },
    {
      "cell_type": "markdown",
      "source": [
        "##Modelin Öğrenme Sürecini Takip Etme\n"
      ],
      "metadata": {
        "id": "6lELn0xO4p4Q"
      }
    },
    {
      "cell_type": "code",
      "source": [
        "model = LogisticRegression(max_iter=100, tol=1e-4, solver='lbfgs', warm_start=True)\n",
        "\n",
        "\n",
        "model.fit(X_train_scaled, y_train)\n",
        "\n",
        "\n",
        "for i in range(len(model.n_iter_)):\n",
        "    print(f\"İterasyon {i+1}:\")\n",
        "    print(f\"Ağırlıklar (W): {model.coef_}\")\n",
        "    print(f\"Bias (b): {model.intercept_}\\n\")\n",
        "\n",
        "\n",
        "y_pred = model.predict(X_test_scaled)\n",
        "\n",
        "\n",
        "accuracy = accuracy_score(y_test, y_pred)\n",
        "print(f\"Model Doğruluk Oranı: {accuracy:.4f}\")\n",
        "print(\"\\nSınıflandırma Raporu:\\n\", classification_report(y_test, y_pred))\n",
        "\n",
        "\n",
        "print(f\"\\nToplam iterasyon sayısı: {model.n_iter_[0]}\")\n",
        "print(f\"Modelin tolerans (tol) değerine ulaşıp ulaşmadığı: {model.n_iter_[0] < model.max_iter}\")"
      ],
      "metadata": {
        "colab": {
          "base_uri": "https://localhost:8080/"
        },
        "id": "L1G834Ld4tQv",
        "outputId": "892deb09-401f-415b-d607-f2df02744edf"
      },
      "execution_count": null,
      "outputs": [
        {
          "output_type": "stream",
          "name": "stdout",
          "text": [
            "İterasyon 1:\n",
            "Ağırlıklar (W): [[0.71819706 0.34697665 0.30989686 0.42548922 0.25172306 1.75980632\n",
            "  0.41157157]]\n",
            "Bias (b): [-0.37805323]\n",
            "\n",
            "Model Doğruluk Oranı: 0.9125\n",
            "\n",
            "Sınıflandırma Raporu:\n",
            "               precision    recall  f1-score   support\n",
            "\n",
            "           0       0.95      0.89      0.92        47\n",
            "           1       0.86      0.94      0.90        33\n",
            "\n",
            "    accuracy                           0.91        80\n",
            "   macro avg       0.91      0.92      0.91        80\n",
            "weighted avg       0.92      0.91      0.91        80\n",
            "\n",
            "\n",
            "Toplam iterasyon sayısı: 10\n",
            "Modelin tolerans (tol) değerine ulaşıp ulaşmadığı: True\n"
          ]
        }
      ]
    },
    {
      "cell_type": "markdown",
      "source": [
        "Bu kodda modelin 10 iterasyon için her iterasyondaki ağırlıklarını ve biasını gözlemliyoruz. Ardından modelimizin tol değerine ulaşıp ulaşmadığını kontrol ediyoruz. Eğer model.n_iter_[0] < model.max_iter ise model erken durmuştur."
      ],
      "metadata": {
        "id": "dHxOLP7m6ZQC"
      }
    },
    {
      "cell_type": "markdown",
      "source": [
        "##Sonuçları Yorumlama ve Modeli Geliştirme\n"
      ],
      "metadata": {
        "id": "uyrnCtzk7hHk"
      }
    },
    {
      "cell_type": "markdown",
      "source": [
        "Modelin en önemli değişkenlerini belirlemek için lojistik regresyonun ağırlıklarına (W) bakmalıyız."
      ],
      "metadata": {
        "id": "R4uHv4fK7pxQ"
      }
    },
    {
      "cell_type": "code",
      "source": [
        "\n",
        "# Modelin ağırlıkları\n",
        "feature_importance = np.abs(model.coef_[0])\n",
        "\n",
        "# Değişken isimleri\n",
        "feature_names = X_train.columns\n",
        "\n",
        "# Ağırlıkları büyükten küçüğe sıralayalım\n",
        "sorted_idx = np.argsort(feature_importance)[::-1]\n",
        "top_features = feature_names[sorted_idx]\n",
        "top_importance = feature_importance[sorted_idx]\n",
        "\n",
        "# En önemli 10 değişkeni gösterelim\n",
        "plt.figure(figsize=(10, 5))\n",
        "plt.barh(top_features[:10], top_importance[:10], color=\"pink\")\n",
        "plt.xlabel(\"Önem Skoru (Ağırlık)\")\n",
        "plt.ylabel(\"Değişkenler\")\n",
        "plt.title(\"Lojistik Regresyon Modelinde En Önemli Değişkenler\")\n",
        "plt.gca().invert_yaxis()\n",
        "plt.show()\n"
      ],
      "metadata": {
        "colab": {
          "base_uri": "https://localhost:8080/",
          "height": 491
        },
        "id": "lWF0SzlZ7llV",
        "outputId": "1b9c0625-6561-4232-c102-0227489234e2"
      },
      "execution_count": null,
      "outputs": [
        {
          "output_type": "display_data",
          "data": {
            "text/plain": [
              "<Figure size 1000x500 with 1 Axes>"
            ],
            "image/png": "[encoded data removed]"
          },
          "metadata": {}
        }
      ]
    },
    {
      "cell_type": "markdown",
      "source": [
        "Modelin en önemli değişkenlerini gözlemlemek için bir grafik oluşturdum çünkü bu şekilde ilk bakışta bile hangi feature daha önemli hangisi 2. sırada öneme sahip bilgilerini hızlıca anlayabiliyoruz. Grafikten de gözlemlediğimiz üzere CGPA çok yüksek bir öneme sahipken onu GRE Score ve SOP takip etmekte."
      ],
      "metadata": {
        "id": "9Sbhpfkw8I2F"
      }
    },
    {
      "cell_type": "markdown",
      "source": [
        "Lojistik Regresyon modelinin threshold(eşik) değeri default olarak 0.5 fakat eğer bu threshold değerini değiştirisek sonuçlarımız acaba nasıl değişecek gözlemlemek için şu aşamları yaptım."
      ],
      "metadata": {
        "id": "-SL5FCMK9j5y"
      }
    },
    {
      "cell_type": "code",
      "source": [
        "y_proba = model.predict_proba(X_test_scaled)[:, 1]\n",
        "\n",
        "thresholds = [0.5,0.7, 0.8]\n",
        "\n",
        "for thresh in thresholds:\n",
        "    y_pred_thresh = (y_proba >= thresh).astype(int)\n",
        "    print(f\"\\n--- Eşik Değeri: {thresh} ---\")\n",
        "    print(\"Sınıflandırma Raporu:\\n\", classification_report(y_test, y_pred_thresh))\n",
        "    print(\"Confusion Matrix:\\n\", confusion_matrix(y_test, y_pred_thresh))"
      ],
      "metadata": {
        "colab": {
          "base_uri": "https://localhost:8080/"
        },
        "id": "eWR2_5ti9xrn",
        "outputId": "c0085aea-e9a4-4b41-a00e-2e1557f7a2c5"
      },
      "execution_count": null,
      "outputs": [
        {
          "output_type": "stream",
          "name": "stdout",
          "text": [
            "\n",
            "--- Eşik Değeri: 0.5 ---\n",
            "Sınıflandırma Raporu:\n",
            "               precision    recall  f1-score   support\n",
            "\n",
            "           0       0.95      0.89      0.92        47\n",
            "           1       0.86      0.94      0.90        33\n",
            "\n",
            "    accuracy                           0.91        80\n",
            "   macro avg       0.91      0.92      0.91        80\n",
            "weighted avg       0.92      0.91      0.91        80\n",
            "\n",
            "Confusion Matrix:\n",
            " [[42  5]\n",
            " [ 2 31]]\n",
            "\n",
            "--- Eşik Değeri: 0.7 ---\n",
            "Sınıflandırma Raporu:\n",
            "               precision    recall  f1-score   support\n",
            "\n",
            "           0       0.94      0.96      0.95        47\n",
            "           1       0.94      0.91      0.92        33\n",
            "\n",
            "    accuracy                           0.94        80\n",
            "   macro avg       0.94      0.93      0.94        80\n",
            "weighted avg       0.94      0.94      0.94        80\n",
            "\n",
            "Confusion Matrix:\n",
            " [[45  2]\n",
            " [ 3 30]]\n",
            "\n",
            "--- Eşik Değeri: 0.8 ---\n",
            "Sınıflandırma Raporu:\n",
            "               precision    recall  f1-score   support\n",
            "\n",
            "           0       0.94      0.98      0.96        47\n",
            "           1       0.97      0.91      0.94        33\n",
            "\n",
            "    accuracy                           0.95        80\n",
            "   macro avg       0.95      0.94      0.95        80\n",
            "weighted avg       0.95      0.95      0.95        80\n",
            "\n",
            "Confusion Matrix:\n",
            " [[46  1]\n",
            " [ 3 30]]\n"
          ]
        }
      ]
    },
    {
      "cell_type": "markdown",
      "source": [
        "Eşik değerini 0.7 ye çektiğimiz zaman precision artıyor yani model yanlış pozitif tahminleri azaltıyor fakat recall biraz düşüyor yani model bazı gerçek pozitifleri kaçırıyor.\n",
        "\n",
        "Sonuç olarak modelin daha kesin tahminler yaptığını ama bazı gerçek pozitifleri kaçırdığını söyleyebiliriz 0.5 eşik değerine kıyasla.\n",
        "\n",
        "\n",
        "Eşik değerini 0.8 e çektiğimiz zaman öncelikle yanlış pozitif sayısının oldukça azaldığını gözlemliyoruz fakat recall biraz daha düştü 0.7ye kıyasla dha fazla gerçek pozitifleri kaçırıyor\n",
        "\n",
        "Sonuç olarak model çok seçici hale geldi yanlış pozitifleri neredeyse yok etti ama bazı gerçek pozitifleri kaçırıyor."
      ],
      "metadata": {
        "id": "zMYy8fEH-ZvO"
      }
    },
    {
      "cell_type": "markdown",
      "source": [
        "Genel Sonuç\n",
        "\n",
        "Düşük eşik değeri (0.5): Daha fazla doğru pozitif buluyor ama yanlış alarmlar daha fazla\n",
        "\n",
        "Orta eşik değeri (0.7): Yanlış alarmlar azalıyor ama bazı pozitifler kaçırılıyor\n",
        "\n",
        "\n",
        "Yüksek eşik değeri (0.8): Model neredeyse hiç yanlış pozitif yapmıyor ama bazı doğru pozitifleri kaçırıyor\n",
        "\n",
        "Karar vermek için:\n",
        "\n",
        "Risk kritikse (örneğin tıbbi teşhis): Düşük eşik kullanarak daha fazla olası hastayı yakalamak önemli olur\n",
        "\n",
        "Yanlış pozitifler kritikse (örneğin dolandırıcılık tespiti): Yüksek eşik kullanarak yanlış alarmları en aza indirmek daha mantıklı olur"
      ],
      "metadata": {
        "id": "ZdMHy45cAEjn"
      }
    }
  ]
}